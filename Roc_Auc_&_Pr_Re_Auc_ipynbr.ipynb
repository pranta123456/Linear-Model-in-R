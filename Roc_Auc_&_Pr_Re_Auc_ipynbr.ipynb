{
  "nbformat": 4,
  "nbformat_minor": 0,
  "metadata": {
    "colab": {
      "name": " Roc_Auc & Pr_Re_Auc.ipynbr",
      "provenance": []
    },
    "kernelspec": {
      "name": "python3",
      "display_name": "Python 3"
    }
  },
  "cells": [
    {
      "cell_type": "code",
      "metadata": {
        "id": "TiQolbBOZcNv",
        "colab_type": "code",
        "colab": {}
      },
      "source": [
        "import matplotlib.pyplot as plt\n",
        "from sklearn.datasets import make_classification\n",
        "from sklearn.linear_model import LogisticRegression\n",
        "from sklearn.dummy import DummyClassifier\n",
        "from sklearn.metrics import roc_curve\n",
        "from sklearn.metrics import auc\n",
        "from sklearn.metrics import roc_auc_score\n",
        "from sklearn.metrics import precision_recall_curve\n",
        "from sklearn.model_selection import train_test_split"
      ],
      "execution_count": 0,
      "outputs": []
    },
    {
      "cell_type": "code",
      "metadata": {
        "id": "g_lUQrU_bzm1",
        "colab_type": "code",
        "colab": {}
      },
      "source": [
        "X,y=make_classification(n_samples=1000,n_classes=2)\n",
        "train_X,test_X,train_y,test_y=train_test_split(X,y,test_size=0.3)\n"
      ],
      "execution_count": 0,
      "outputs": []
    },
    {
      "cell_type": "code",
      "metadata": {
        "id": "lNpQUxzReoTb",
        "colab_type": "code",
        "outputId": "52058789-6cb0-471d-aa8a-91650c3923e7",
        "colab": {
          "base_uri": "https://localhost:8080/",
          "height": 102
        }
      },
      "source": [
        "model=LogisticRegression(solver=\"lbfgs\")\n",
        "model.fit(train_X,train_y)"
      ],
      "execution_count": 48,
      "outputs": [
        {
          "output_type": "execute_result",
          "data": {
            "text/plain": [
              "LogisticRegression(C=1.0, class_weight=None, dual=False, fit_intercept=True,\n",
              "                   intercept_scaling=1, l1_ratio=None, max_iter=100,\n",
              "                   multi_class='auto', n_jobs=None, penalty='l2',\n",
              "                   random_state=None, solver='lbfgs', tol=0.0001, verbose=0,\n",
              "                   warm_start=False)"
            ]
          },
          "metadata": {
            "tags": []
          },
          "execution_count": 48
        }
      ]
    },
    {
      "cell_type": "code",
      "metadata": {
        "id": "OS02IuS3fbUP",
        "colab_type": "code",
        "colab": {}
      },
      "source": [
        "yhat=model.predict_proba(test_X)"
      ],
      "execution_count": 0,
      "outputs": []
    },
    {
      "cell_type": "code",
      "metadata": {
        "id": "RTuIkH8XgmG7",
        "colab_type": "code",
        "outputId": "7541e22a-7f93-40cd-9647-945618d1e89f",
        "colab": {
          "base_uri": "https://localhost:8080/",
          "height": 279
        }
      },
      "source": [
        "pos_prob=yhat[:,1]\n",
        "plt.plot([0,1],[0,1],linestyle=\"--\",label=\"Random\")\n",
        "fpr,tpr,t=roc_curve(test_y,pos_prob)\n",
        "plt.plot(fpr,tpr,marker=\".\",label=\"Logistic\")\n",
        "plt.xlabel(\"FPR\")\n",
        "plt.ylabel(\"TPR\")\n",
        "plt.legend()\n",
        "plt.show()"
      ],
      "execution_count": 50,
      "outputs": [
        {
          "output_type": "display_data",
          "data": {
            "image/png": "[encoded data removed]",
            "text/plain": [
              "<Figure size 432x288 with 1 Axes>"
            ]
          },
          "metadata": {
            "tags": [],
            "needs_background": "light"
          }
        }
      ]
    },
    {
      "cell_type": "code",
      "metadata": {
        "id": "VngEkL2gkRF9",
        "colab_type": "code",
        "outputId": "c1a9971a-1459-4008-bb47-a4689b90e9cb",
        "colab": {
          "base_uri": "https://localhost:8080/",
          "height": 34
        }
      },
      "source": [
        "auc_score=roc_auc_score(test_y,pos_prob)\n",
        "print(auc_score)"
      ],
      "execution_count": 51,
      "outputs": [
        {
          "output_type": "stream",
          "text": [
            "0.9844642857142858\n"
          ],
          "name": "stdout"
        }
      ]
    },
    {
      "cell_type": "code",
      "metadata": {
        "id": "kZagvq-xkrNd",
        "colab_type": "code",
        "outputId": "597f73f9-6c36-4874-ee17-350e58aeda49",
        "colab": {
          "base_uri": "https://localhost:8080/",
          "height": 34
        }
      },
      "source": [
        "model=DummyClassifier(strategy=\"stratified\")\n",
        "model.fit(train_X,train_y)\n",
        "yhat=model.predict_proba(test_X)\n",
        "pos_proba=yhat[:,1]\n",
        "auc_score=roc_auc_score(test_y,pos_proba)\n",
        "print(auc_score)"
      ],
      "execution_count": 52,
      "outputs": [
        {
          "output_type": "stream",
          "text": [
            "0.4982142857142857\n"
          ],
          "name": "stdout"
        }
      ]
    },
    {
      "cell_type": "code",
      "metadata": {
        "id": "Mo8WjrvxuDhD",
        "colab_type": "code",
        "colab": {
          "base_uri": "https://localhost:8080/",
          "height": 279
        },
        "outputId": "d73b1327-d85f-4e78-faa1-4dafa8530af1"
      },
      "source": [
        "X,y=make_classification(n_samples=1000,n_classes=2)\n",
        "train_X,test_X,train_y,test_y=train_test_split(X,y,test_size=0.5)\n",
        "model=LogisticRegression(solver=\"lbfgs\")\n",
        "model.fit(train_X,train_y)\n",
        "yhat=model.predict_proba(test_X)\n",
        "pos_proba=yhat[:,1]\n",
        "no_skill=len(y[y==1])/len(y)\n",
        "plt.plot([0,1],[no_skill,no_skill],linestyle=\"--\",label=\"Random\")\n",
        "Precision,Recall,t=precision_recall_curve(test_y,pos_proba)\n",
        "plt.plot(Recall,Precision,marker=\".\",label=\"Logistic\")\n",
        "plt.xlabel(\"Recall\")\n",
        "plt.ylabel(\"Precision\")\n",
        "plt.legend()\n",
        "plt.show()"
      ],
      "execution_count": 53,
      "outputs": [
        {
          "output_type": "display_data",
          "data": {
            "image/png": "[encoded data removed]",
            "text/plain": [
              "<Figure size 432x288 with 1 Axes>"
            ]
          },
          "metadata": {
            "tags": [],
            "needs_background": "light"
          }
        }
      ]
    },
    {
      "cell_type": "code",
      "metadata": {
        "id": "PmCTIahN_LPF",
        "colab_type": "code",
        "colab": {
          "base_uri": "https://localhost:8080/",
          "height": 34
        },
        "outputId": "5cf592c1-f6d1-4122-c59c-10c8469c701c"
      },
      "source": [
        "auc_score=auc(Recall,Precision)\n",
        "auc_score"
      ],
      "execution_count": 54,
      "outputs": [
        {
          "output_type": "execute_result",
          "data": {
            "text/plain": [
              "0.9158880971258955"
            ]
          },
          "metadata": {
            "tags": []
          },
          "execution_count": 54
        }
      ]
    },
    {
      "cell_type": "markdown",
      "metadata": {
        "id": "zB9DSDEfBNLE",
        "colab_type": "text"
      },
      "source": [
        "# For Imbalanced Dataset PRAUC is better than ROCAUC\n"
      ]
    },
    {
      "cell_type": "code",
      "metadata": {
        "id": "KvHwPTKZByWx",
        "colab_type": "code",
        "colab": {
          "base_uri": "https://localhost:8080/",
          "height": 279
        },
        "outputId": "366571e7-61ee-4750-d135-23aa6c3172b2"
      },
      "source": [
        "X,y=make_classification(n_samples=1000,n_classes=2,weights=[0.99,0.01])\n",
        "train_X,test_X,train_y,test_y=train_test_split(X,y,test_size=0.5)\n",
        "no_skill=len(y[y==1])/len(y)\n",
        "plt.plot([0,1],[no_skill,no_skill],linestyle=\"--\",label=\"Random\")\n",
        "model=LogisticRegression(solver=\"lbfgs\")\n",
        "model.fit(train_X,train_y)\n",
        "yhat=model.predict_proba(test_X)\n",
        "pos_proba=yhat[:,1]\n",
        "precision,recall,t=precision_recall_curve(test_y,pos_proba)\n",
        "plt.plot(recall,precision,marker=\".\",label=\"Logistic\")\n",
        "plt.xlabel(\"Recall\")\n",
        "plt.ylabel(\"Precision\")\n",
        "plt.show()\n"
      ],
      "execution_count": 55,
      "outputs": [
        {
          "output_type": "display_data",
          "data": {
            "image/png": "[encoded data removed]",
            "text/plain": [
              "<Figure size 432x288 with 1 Axes>"
            ]
          },
          "metadata": {
            "tags": [],
            "needs_background": "light"
          }
        }
      ]
    },
    {
      "cell_type": "code",
      "metadata": {
        "id": "u8gYXuv0K1Cy",
        "colab_type": "code",
        "colab": {
          "base_uri": "https://localhost:8080/",
          "height": 51
        },
        "outputId": "6879b247-e756-4463-fb8b-3a7452b6f6f6"
      },
      "source": [
        "model=DummyClassifier(strategy=\"stratified\")\n",
        "model.fit(train_X,train_y)\n",
        "yhat=model.predict_proba(test_X)\n",
        "pos_probs=yhat[:,1]\n",
        "precision,recall,t=precision_recall_curve(test_y,pos_probs)\n",
        "auc_score=auc(recall,precision)\n",
        "print(auc_score)\n",
        "\n",
        "model=LogisticRegression(solver=\"lbfgs\")\n",
        "model.fit(train_X,train_y)\n",
        "yhat=model.predict_proba(test_X)\n",
        "pos_proba=yhat[:,1]\n",
        "precision,recall,t=precision_recall_curve(test_y,pos_proba)\n",
        "auc_score=auc(recall,precision)\n",
        "print(auc_score)                 # this score tells us that there is some problem with the model although it was better than random but not excellent "
      ],
      "execution_count": 56,
      "outputs": [
        {
          "output_type": "stream",
          "text": [
            "0.005\n",
            "0.22129260828596733\n"
          ],
          "name": "stdout"
        }
      ]
    },
    {
      "cell_type": "code",
      "metadata": {
        "id": "N91FnEBVTdAc",
        "colab_type": "code",
        "colab": {
          "base_uri": "https://localhost:8080/",
          "height": 313
        },
        "outputId": "f41092f8-33bb-4093-f20e-3afb20571d06"
      },
      "source": [
        "def roc_auc_plot(test_y,naive_prob,pos_prob):\n",
        "  fpr,tpr,t=roc_curve(test_y,naive_prob)\n",
        "  plt.plot(fpr,tpr,linestyle=\"--\",label=\"Random\")\n",
        "  fpr,tpr,t=roc_curve(test_y,pos_proba)\n",
        "  plt.plot(fpr,tpr,marker=\".\",label=\"Logistic\")\n",
        "  plt.xlabel(\"FPR\")\n",
        "  plt.ylabel(\"TPR\")\n",
        "  plt.show()\n",
        "\n",
        "model=LogisticRegression(solver=\"lbfgs\")\n",
        "model.fit(train_X,train_y)\n",
        "yhat=model.predict_proba(test_X)\n",
        "pos_prob=yhat[:,1]\n",
        "yhat_1=model.predict(test_X)\n",
        "auc_score=roc_auc_score(test_y,pos_prob)\n",
        "print(auc_score)\n",
        "\n",
        "model=DummyClassifier(strategy=\"stratified\")\n",
        "model.fit(train_X,train_y)\n",
        "yhat=model.predict_proba(test_X)\n",
        "naive_prob=yhat[:,1]\n",
        "auc_score=roc_auc_score(test_y,naive_prob)\n",
        "print(auc_score)\n",
        "\n",
        "roc_auc_plot(test_y,naive_prob,pos_prob)   \n",
        "\n",
        "# The problem of the classifier which is recognised by PRAUC is not recognised by ROCAUC.\n",
        "# the problem of the classifier is it takes deafaul prob threshold 0.5 and i think all the posotive point\n",
        "# prob score less than 0.5 and so all are classified as 0 whic is recognised by PRAUC not ROCAUC.\n",
        "# Since PRAUC is focused on minority class whreas ROCAUC is not biases to class label.\n",
        "# We can check this problem of classifier by seeing predicted class label and histogram of prob of positive class label."
      ],
      "execution_count": 57,
      "outputs": [
        {
          "output_type": "stream",
          "text": [
            "0.7955555555555556\n",
            "0.4919191919191919\n"
          ],
          "name": "stdout"
        },
        {
          "output_type": "display_data",
          "data": {
            "image/png": "[encoded data removed]",
            "text/plain": [
              "<Figure size 432x288 with 1 Axes>"
            ]
          },
          "metadata": {
            "tags": [],
            "needs_background": "light"
          }
        }
      ]
    },
    {
      "cell_type": "code",
      "metadata": {
        "id": "bQQo9M3uab7d",
        "colab_type": "code",
        "colab": {}
      },
      "source": [
        "from collections import Counter"
      ],
      "execution_count": 0,
      "outputs": []
    },
    {
      "cell_type": "code",
      "metadata": {
        "id": "d6KgW_UBbbEO",
        "colab_type": "code",
        "colab": {
          "base_uri": "https://localhost:8080/",
          "height": 265
        },
        "outputId": "5e39be48-3463-4c25-b8b8-725d2654fbe0"
      },
      "source": [
        "plt.hist(pos_prob,bins=50)\n",
        "plt.show()"
      ],
      "execution_count": 59,
      "outputs": [
        {
          "output_type": "display_data",
          "data": {
            "image/png": "[encoded data removed]",
            "text/plain": [
              "<Figure size 432x288 with 1 Axes>"
            ]
          },
          "metadata": {
            "tags": [],
            "needs_background": "light"
          }
        }
      ]
    },
    {
      "cell_type": "code",
      "metadata": {
        "id": "S055EKXQc0nA",
        "colab_type": "code",
        "colab": {
          "base_uri": "https://localhost:8080/",
          "height": 34
        },
        "outputId": "fa242b77-d105-4005-b044-59356fdb0271"
      },
      "source": [
        "print(Counter(yhat_1))"
      ],
      "execution_count": 60,
      "outputs": [
        {
          "output_type": "stream",
          "text": [
            "Counter({0: 498, 1: 2})\n"
          ],
          "name": "stdout"
        }
      ]
    }
  ]
}